{
 "cells": [
  {
   "cell_type": "markdown",
   "source": [
    "answers<h2>Working in Data: CSV\n"
   ],
   "metadata": {
    "pycharm": {
     "metadata": false
    }
   }
  },
  {
   "cell_type": "markdown",
   "source": "Creating a loop, for every line within csv_reader print line:",
   "metadata": {
    "pycharm": {
     "metadata": false
    }
   }
  },
  {
   "cell_type": "code",
   "execution_count": 2,
   "outputs": [
    {
     "name": "stdout",
     "text": [
      "['Start Date ', 'Start Time', 'End Date', 'End Time', 'Event Title ', 'Event Description', 'All Day Event', 'No End Time', 'Contact ', 'Contact Email', 'Contact Phone', 'Location', 'Category', 'Registration', 'Maximum Seats', 'Last Date To Register']\n['10/5/13', '7:00 AM', '10/5/13', '8:00 AM', 'Parent Teacher Conference', 'Register for a one hour parent teacher conference. ', 'N', 'N', 'Chris Gallagher', 'cgallagher@schoolwires.com', '814-555-5179', 'Room 203', '2', 'Y', '1', '10/4/13']\n['10/5/13', '8:00 AM', '10/5/13', '9:00 AM', 'Parent Teacher Conference', 'Register for a one hour parent teacher conference. ', 'N', 'N', 'Chris Gallagher', 'cgallagher@schoolwires.com', '814-555-5179', 'Room 203', '2', 'Y', '1', '10/4/13']\n['10/5/13', '9:00 AM', '10/5/13', '10:00 AM', 'Parent Teacher Conference', 'Register for a one hour parent teacher conference. ', 'N', 'N', 'Chris Gallagher', 'cgallagher@schoolwires.com', '814-555-5179', 'Room 203', '2', 'Y', '1', '10/4/13']\n['10/5/13', '10:00 AM', '10/5/13', '11:00 AM', 'Parent Teacher Conference', 'Register for a one hour parent teacher conference. ', 'N', 'N', 'Chris Gallagher', 'cgallagher@schoolwires.com', '814-555-5179', 'Room 203', '2', 'Y', '1', '10/4/13']\n['10/5/13', '11:00 AM', '10/5/13', '12:00 PM', 'Parent Teacher Conference', 'Register for a one hour parent teacher conference. ', 'N', 'N', 'Chris Gallagher', 'cgallagher@schoolwires.com', '814-555-5179', 'Room 203', '2', 'Y', '1', '10/4/13']\n['10/5/13', '12:00 PM', '10/5/13', '1:00 PM', 'Parent Teacher Conference', 'Register for a one hour parent teacher conference. ', 'N', 'N', 'Chris Gallagher', 'cgallagher@schoolwires.com', '814-555-5179', 'Room 203', '2', 'Y', '1', '10/4/13']\n['10/5/13', '1:00 PM', '10/5/13', '2:00 PM', 'Parent Teacher Conference', 'Register for a one hour parent teacher conference. ', 'N', 'N', 'Chris Gallagher', 'cgallagher@schoolwires.com', '814-555-5179', 'Room 203', '2', 'Y', '1', '10/4/13']\n['10/5/13', '2:00 PM', '10/5/13', '3:00 PM', 'Parent Teacher Conference', 'Register for a one hour parent teacher conference. ', 'N', 'N', 'Chris Gallagher', 'cgallagher@schoolwires.com', '814-555-5179', 'Room 203', '2', 'Y', '1', '10/4/13']\n['10/5/13', '3:00 PM', '10/5/13', '4:00 PM', 'Parent Teacher Conference', 'Register for a one hour parent teacher conference. ', 'N', 'N', 'Chris Gallagher', 'cgallagher@schoolwires.com', '814-555-5179', 'Room 203', '2', 'Y', '1', '10/4/13']\n['10/5/13', '4:00 PM', '10/5/13', '5:00 PM', 'Parent Teacher Conference', 'Register for a one hour parent teacher conference. ', 'N', 'N', 'Chris Gallagher', 'cgallagher@schoolwires.com', '814-555-5179', 'Room 203', '2', 'Y', '1', '10/4/13']\n['10/5/13', '5:00 PM', '10/5/13', '6:00 PM', 'Parent Teacher Conference', 'Register for a one hour parent teacher conference. ', 'N', 'N', 'Chris Gallagher', 'cgallagher@schoolwires.com', '814-555-5179', 'Room 203', '2', 'Y', '1', '10/4/13']\n['10/5/13', '6:00 PM', '10/5/13', '7:00 PM', 'Parent Teacher Conference', 'Register for a one hour parent teacher conference. ', 'N', 'N', 'Chris Gallagher', 'cgallagher@schoolwires.com', '814-555-5179', 'Room 203', '2', 'Y', '1', '10/4/13']\n"
     ],
     "output_type": "stream"
    }
   ],
   "source": "import csv\n\nwith open('../_files/ParentTeacher.csv') as csv_file:\n    csv_reader = csv.reader(csv_file)\n\n    #Creating a loop, for every line within csv_reader print line\n    for line in csv_reader:\n        print(line)\n        ",
   "metadata": {
    "pycharm": {
     "metadata": false,
     "name": "#%%\n",
     "is_executing": false
    }
   }
  },
  {
   "cell_type": "markdown",
   "source": "Moving the csv into a list:\n",
   "metadata": {
    "pycharm": {
     "metadata": false
    }
   }
  },
  {
   "cell_type": "code",
   "execution_count": 3,
   "outputs": [
    {
     "name": "stdout",
     "text": [
      "[['Start Date ', 'Start Time', 'End Date', 'End Time', 'Event Title ', 'Event Description', 'All Day Event', 'No End Time', 'Contact ', 'Contact Email', 'Contact Phone', 'Location', 'Category', 'Registration', 'Maximum Seats', 'Last Date To Register'], ['10/5/13', '7:00 AM', '10/5/13', '8:00 AM', 'Parent Teacher Conference', 'Register for a one hour parent teacher conference. ', 'N', 'N', 'Chris Gallagher', 'cgallagher@schoolwires.com', '814-555-5179', 'Room 203', '2', 'Y', '1', '10/4/13'], ['10/5/13', '8:00 AM', '10/5/13', '9:00 AM', 'Parent Teacher Conference', 'Register for a one hour parent teacher conference. ', 'N', 'N', 'Chris Gallagher', 'cgallagher@schoolwires.com', '814-555-5179', 'Room 203', '2', 'Y', '1', '10/4/13'], ['10/5/13', '9:00 AM', '10/5/13', '10:00 AM', 'Parent Teacher Conference', 'Register for a one hour parent teacher conference. ', 'N', 'N', 'Chris Gallagher', 'cgallagher@schoolwires.com', '814-555-5179', 'Room 203', '2', 'Y', '1', '10/4/13'], ['10/5/13', '10:00 AM', '10/5/13', '11:00 AM', 'Parent Teacher Conference', 'Register for a one hour parent teacher conference. ', 'N', 'N', 'Chris Gallagher', 'cgallagher@schoolwires.com', '814-555-5179', 'Room 203', '2', 'Y', '1', '10/4/13'], ['10/5/13', '11:00 AM', '10/5/13', '12:00 PM', 'Parent Teacher Conference', 'Register for a one hour parent teacher conference. ', 'N', 'N', 'Chris Gallagher', 'cgallagher@schoolwires.com', '814-555-5179', 'Room 203', '2', 'Y', '1', '10/4/13'], ['10/5/13', '12:00 PM', '10/5/13', '1:00 PM', 'Parent Teacher Conference', 'Register for a one hour parent teacher conference. ', 'N', 'N', 'Chris Gallagher', 'cgallagher@schoolwires.com', '814-555-5179', 'Room 203', '2', 'Y', '1', '10/4/13'], ['10/5/13', '1:00 PM', '10/5/13', '2:00 PM', 'Parent Teacher Conference', 'Register for a one hour parent teacher conference. ', 'N', 'N', 'Chris Gallagher', 'cgallagher@schoolwires.com', '814-555-5179', 'Room 203', '2', 'Y', '1', '10/4/13'], ['10/5/13', '2:00 PM', '10/5/13', '3:00 PM', 'Parent Teacher Conference', 'Register for a one hour parent teacher conference. ', 'N', 'N', 'Chris Gallagher', 'cgallagher@schoolwires.com', '814-555-5179', 'Room 203', '2', 'Y', '1', '10/4/13'], ['10/5/13', '3:00 PM', '10/5/13', '4:00 PM', 'Parent Teacher Conference', 'Register for a one hour parent teacher conference. ', 'N', 'N', 'Chris Gallagher', 'cgallagher@schoolwires.com', '814-555-5179', 'Room 203', '2', 'Y', '1', '10/4/13'], ['10/5/13', '4:00 PM', '10/5/13', '5:00 PM', 'Parent Teacher Conference', 'Register for a one hour parent teacher conference. ', 'N', 'N', 'Chris Gallagher', 'cgallagher@schoolwires.com', '814-555-5179', 'Room 203', '2', 'Y', '1', '10/4/13'], ['10/5/13', '5:00 PM', '10/5/13', '6:00 PM', 'Parent Teacher Conference', 'Register for a one hour parent teacher conference. ', 'N', 'N', 'Chris Gallagher', 'cgallagher@schoolwires.com', '814-555-5179', 'Room 203', '2', 'Y', '1', '10/4/13'], ['10/5/13', '6:00 PM', '10/5/13', '7:00 PM', 'Parent Teacher Conference', 'Register for a one hour parent teacher conference. ', 'N', 'N', 'Chris Gallagher', 'cgallagher@schoolwires.com', '814-555-5179', 'Room 203', '2', 'Y', '1', '10/4/13']]\n"
     ],
     "output_type": "stream"
    }
   ],
   "source": "with open('../_files/ParentTeacher.csv') as csv_file:\n    csv_reader2 = csv.reader(csv_file)\n    \n#create a blank list\n    blank_list = []\n\n    #Creating a loop, for every line within csv_reader\n    for line in csv_reader2:\n        #append each line to the blank_list\n        blank_list.append(line)\n\n    #print the new list (Issue nested list)\n    print(blank_list)\n    ",
   "metadata": {
    "pycharm": {
     "metadata": false,
     "name": "#%%\n",
     "is_executing": false
    }
   }
  },
  {
   "cell_type": "markdown",
   "source": "Remove Nested list:",
   "metadata": {
    "pycharm": {
     "metadata": false
    }
   }
  },
  {
   "cell_type": "code",
   "execution_count": 4,
   "outputs": [
    {
     "name": "stdout",
     "text": [
      "['Start Date ', 'Start Time', 'End Date', 'End Time', 'Event Title ', 'Event Description', 'All Day Event', 'No End Time', 'Contact ', 'Contact Email', 'Contact Phone', 'Location', 'Category', 'Registration', 'Maximum Seats', 'Last Date To Register']\n"
     ],
     "output_type": "stream"
    }
   ],
   "source": "print(blank_list[0])\n",
   "metadata": {
    "pycharm": {
     "metadata": false,
     "name": "#%%\n",
     "is_executing": false
    }
   }
  },
  {
   "cell_type": "markdown",
   "source": "Learn how to call individual data within the list:",
   "metadata": {
    "pycharm": {
     "metadata": false
    }
   }
  },
  {
   "cell_type": "code",
   "execution_count": 5,
   "outputs": [
    {
     "name": "stdout",
     "text": [
      "End Time\n"
     ],
     "output_type": "stream"
    }
   ],
   "source": "print(blank_list[0][3])\n",
   "metadata": {
    "pycharm": {
     "metadata": false,
     "name": "#%%\n",
     "is_executing": false
    }
   }
  },
  {
   "cell_type": "markdown",
   "source": "Learn how to call a range of data within the list:",
   "metadata": {
    "pycharm": {
     "metadata": false
    }
   }
  },
  {
   "cell_type": "code",
   "execution_count": 6,
   "outputs": [
    {
     "name": "stdout",
     "text": [
      "['Start Date ', 'Start Time', 'End Date', 'End Time', 'Event Title ', 'Event Description', 'All Day Event', 'No End Time', 'Contact ', 'Contact Email', 'Contact Phone', 'Location', 'Category', 'Registration', 'Maximum Seats']\n"
     ],
     "output_type": "stream"
    }
   ],
   "source": "print(blank_list[0][0:15])\n\n",
   "metadata": {
    "pycharm": {
     "metadata": false,
     "name": "#%%\n",
     "is_executing": false
    }
   }
  }
 ],
 "metadata": {
  "language_info": {
   "codemirror_mode": {
    "name": "ipython",
    "version": 2
   },
   "file_extension": ".py",
   "mimetype": "text/x-python",
   "name": "python",
   "nbconvert_exporter": "python",
   "pygments_lexer": "ipython2",
   "version": "2.7.6"
  },
  "kernelspec": {
   "name": "python3",
   "language": "python",
   "display_name": "Python 3"
  },
  "stem_cell": {
   "cell_type": "raw",
   "source": "",
   "metadata": {
    "pycharm": {
     "metadata": false
    }
   }
  },
  "pycharm": {
   "stem_cell": {
    "cell_type": "raw",
    "source": [],
    "metadata": {
     "collapsed": false
    }
   }
  }
 },
 "nbformat": 4,
 "nbformat_minor": 0
}